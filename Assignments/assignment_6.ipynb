{
 "cells": [
  {
   "cell_type": "markdown",
   "id": "558a7aef",
   "metadata": {},
   "source": [
    "# Assignment No - 6\n",
    "\n",
    "## Creating an ANN/CNN on a Dataset\n",
    "\n",
    "In this notebook, we will implement an **Artificial Neural Network (ANN)** and a **Convolutional Neural Network (CNN)** on a dataset.  \n",
    "The dataset chosen is **MNIST** (handwritten digit classification).\n",
    "\n",
    "### Step 1: Load Libraries & Dataset\n"
   ]
  },
  {
   "cell_type": "code",
   "execution_count": null,
   "id": "7cce6367",
   "metadata": {},
   "outputs": [],
   "source": [
    "import tensorflow as tf\n",
    "from tensorflow import keras\n",
    "import numpy as np\n",
    "import matplotlib.pyplot as plt\n",
    "\n",
    "# Load MNIST dataset\n",
    "(x_train, y_train), (x_test, y_test) = keras.datasets.mnist.load_data()\n",
    "\n",
    "# Normalize the data\n",
    "x_train, x_test = x_train / 255.0, x_test / 255.0\n",
    "\n",
    "# Display first 5 images\n",
    "fig, axes = plt.subplots(1, 5, figsize=(10, 3))\n",
    "for i in range(5):\n",
    "    axes[i].imshow(x_train[i], cmap='gray')\n",
    "    axes[i].axis('off')\n",
    "plt.show()\n"
   ]
  },
  {
   "cell_type": "markdown",
   "id": "e75a7091",
   "metadata": {},
   "source": [
    "## Step 2: Implementing Artificial Neural Network (ANN)"
   ]
  },
  {
   "cell_type": "code",
   "execution_count": null,
   "id": "7ed27fe7",
   "metadata": {},
   "outputs": [],
   "source": [
    "# Define ANN model\n",
    "ann_model = keras.Sequential([\n",
    "    keras.layers.Flatten(input_shape=(28, 28)),  # Flatten input\n",
    "    keras.layers.Dense(128, activation='relu'),  # Hidden layer\n",
    "    keras.layers.Dense(10, activation='softmax') # Output layer\n",
    "])\n",
    "\n",
    "# Compile model\n",
    "ann_model.compile(optimizer='adam', loss='sparse_categorical_crossentropy', metrics=['accuracy'])\n",
    "\n",
    "# Train ANN model\n",
    "ann_model.fit(x_train, y_train, epochs=5, validation_data=(x_test, y_test))\n",
    "\n",
    "# Evaluate ANN model\n",
    "test_loss, test_acc = ann_model.evaluate(x_test, y_test)\n",
    "print(f\"Test Accuracy (ANN): {test_acc * 100:.2f}%\")\n"
   ]
  },
  {
   "cell_type": "markdown",
   "id": "95dfaa14",
   "metadata": {},
   "source": [
    "## Step 3: Implementing Convolutional Neural Network (CNN)"
   ]
  },
  {
   "cell_type": "code",
   "execution_count": null,
   "id": "a497f35a",
   "metadata": {},
   "outputs": [],
   "source": [
    "# Reshape data for CNN\n",
    "x_train_cnn = x_train.reshape(-1, 28, 28, 1)\n",
    "x_test_cnn = x_test.reshape(-1, 28, 28, 1)\n",
    "\n",
    "# Define CNN model\n",
    "cnn_model = keras.Sequential([\n",
    "    keras.layers.Conv2D(32, (3,3), activation='relu', input_shape=(28,28,1)),\n",
    "    keras.layers.MaxPooling2D(2,2),\n",
    "    keras.layers.Conv2D(64, (3,3), activation='relu'),\n",
    "    keras.layers.MaxPooling2D(2,2),\n",
    "    keras.layers.Flatten(),\n",
    "    keras.layers.Dense(128, activation='relu'),\n",
    "    keras.layers.Dense(10, activation='softmax')\n",
    "])\n",
    "\n",
    "# Compile model\n",
    "cnn_model.compile(optimizer='adam', loss='sparse_categorical_crossentropy', metrics=['accuracy'])\n",
    "\n",
    "# Train CNN model\n",
    "cnn_model.fit(x_train_cnn, y_train, epochs=5, validation_data=(x_test_cnn, y_test))\n",
    "\n",
    "# Evaluate CNN model\n",
    "test_loss, test_acc = cnn_model.evaluate(x_test_cnn, y_test)\n",
    "print(f\"Test Accuracy (CNN): {test_acc * 100:.2f}%\")\n"
   ]
  }
 ],
 "metadata": {},
 "nbformat": 4,
 "nbformat_minor": 5
}
