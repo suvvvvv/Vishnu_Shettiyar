{
 "cells": [
  {
   "cell_type": "markdown",
   "id": "8ecc7789",
   "metadata": {},
   "source": [
    "# **Assignment No - 2**\n",
    "\n",
    "**Use Methods of Python Datatypes (Objects)**"
   ]
  },
  {
   "cell_type": "markdown",
   "id": "9d849748",
   "metadata": {},
   "source": [
    "## **Python Data Types and Their Methods**\n",
    "Python provides built-in methods for different data types such as `int`, `float`, `complex`, `list`, `tuple`, `str`, `set`, `dict`, and `bool`. We can use the `help()` function to explore available methods."
   ]
  },
  {
   "cell_type": "code",
   "execution_count": null,
   "id": "79f791a1",
   "metadata": {},
   "outputs": [],
   "source": [
    "# Getting help on Python data types\n",
    "help(int)\n",
    "help(float)\n",
    "help(complex)\n",
    "help(list)\n",
    "help(tuple)\n",
    "help(str)\n",
    "help(set)\n",
    "help(dict)\n",
    "help(bool)"
   ]
  },
  {
   "cell_type": "markdown",
   "id": "9f842a7b",
   "metadata": {},
   "source": [
    "### **Examples of Methods for Each Data Type**"
   ]
  },
  {
   "cell_type": "code",
   "execution_count": null,
   "id": "7002adea",
   "metadata": {},
   "outputs": [],
   "source": [
    "# Integer methods\n",
    "num = 10\n",
    "print(num.bit_length())  # Returns the number of bits required to represent the number\n",
    "print(num.to_bytes(2, 'big'))  # Converts to bytes"
   ]
  },
  {
   "cell_type": "code",
   "execution_count": null,
   "id": "4de6d86a",
   "metadata": {},
   "outputs": [],
   "source": [
    "# Float methods\n",
    "flt = 3.14159\n",
    "print(flt.as_integer_ratio())  # Returns a tuple representing the fraction\n",
    "print(flt.is_integer())  # Checks if the number is an integer"
   ]
  },
  {
   "cell_type": "code",
   "execution_count": null,
   "id": "5610e85f",
   "metadata": {},
   "outputs": [],
   "source": [
    "# Complex methods\n",
    "comp = 3 + 4j\n",
    "print(comp.real)  # Real part\n",
    "print(comp.imag)  # Imaginary part"
   ]
  },
  {
   "cell_type": "code",
   "execution_count": null,
   "id": "febd2418",
   "metadata": {},
   "outputs": [],
   "source": [
    "# List methods\n",
    "lst = [1, 2, 3]\n",
    "lst.append(4)  # Adds an element\n",
    "lst.reverse()  # Reverses the list\n",
    "print(lst)"
   ]
  },
  {
   "cell_type": "code",
   "execution_count": null,
   "id": "2a9a064c",
   "metadata": {},
   "outputs": [],
   "source": [
    "# Tuple methods\n",
    "tup = (1, 2, 3, 2)\n",
    "print(tup.count(2))  # Counts occurrences of 2\n",
    "print(tup.index(3))  # Finds index of 3"
   ]
  },
  {
   "cell_type": "code",
   "execution_count": null,
   "id": "72fa9e4d",
   "metadata": {},
   "outputs": [],
   "source": [
    "# String methods\n",
    "s = 'hello world'\n",
    "print(s.upper())  # Converts to uppercase\n",
    "print(s.replace('world', 'Python'))  # Replaces substring"
   ]
  },
  {
   "cell_type": "code",
   "execution_count": null,
   "id": "5acd6329",
   "metadata": {},
   "outputs": [],
   "source": [
    "# Set methods\n",
    "st = {1, 2, 3}\n",
    "st.add(4)  # Adds an element\n",
    "st.remove(2)  # Removes an element\n",
    "print(st)"
   ]
  },
  {
   "cell_type": "code",
   "execution_count": null,
   "id": "5150a88c",
   "metadata": {},
   "outputs": [],
   "source": [
    "# Dictionary methods\n",
    "d = {'a': 1, 'b': 2}\n",
    "print(d.keys())  # Returns keys\n",
    "print(d.values())  # Returns values"
   ]
  },
  {
   "cell_type": "code",
   "execution_count": null,
   "id": "06262eb1",
   "metadata": {},
   "outputs": [],
   "source": [
    "# Boolean methods\n",
    "b = True\n",
    "print(b.__int__())  # Converts to integer\n",
    "print(b.__bool__())  # Returns boolean value"
   ]
  },
  {
   "cell_type": "markdown",
   "id": "934f36b7",
   "metadata": {},
   "source": [
    "### **Conclusion**\n",
    "Python provides various methods for built-in data types. Using `help()` helps explore all available methods. Each data type has specific methods that make working with data easier."
   ]
  }
 ],
 "metadata": {},
 "nbformat": 4,
 "nbformat_minor": 5
}
